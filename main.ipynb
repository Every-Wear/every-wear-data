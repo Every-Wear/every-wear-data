{
 "cells": [
  {
   "attachments": {},
   "cell_type": "markdown",
   "id": "0aff7982",
   "metadata": {},
   "source": [
    "# Matrix Factorization Model\n",
    "\n",
    "- https://youtu.be/Z49JNxS4vsc\n",
    "- 가상의 사용자 A, B, C\n",
    "- 의류 아이템 X, Y, Z\n",
    "\n",
    "![](./imgs/img1.png)\n",
    "\n",
    "- 위 행렬은 사용자 A가 의류 아이템 X와 Z를 구매했음을 나타내며, 사용자 B는 의류 아이템 X와 Y를, 사용자 C는 의류 아이템 Y와 Z를 구매했음을 나타냅니다."
   ]
  },
  {
   "attachments": {},
   "cell_type": "markdown",
   "id": "dac3c04d",
   "metadata": {},
   "source": [
    "### SVD를 사용하여 행렬 분해하기\n",
    "\n",
    "1. 사용자-아이템 행렬을 SVD를 통해 세 개의 작은 행렬로 분해합니다. 일반적으로 행렬 A는 U, Σ, V^T 세 개의 행렬로 분해됩니다.\n",
    "2. U는 사용자 특성 벡터를 담은 행렬이며, 사용자의 차원을 나타냅니다.\n",
    "3. Σ는 특이값을 대각 성분으로 가지는 대각 행렬이며, 행렬의 크기는 사용자와 아이템의 개수에 따라 달라집니다.\n",
    "4. V^T는 아이템 특성 벡터를 담은 행렬이며, 아이템의 차원을 나타냅니다.\n",
    "\n",
    "### 특성 벡터 학습하기\n",
    "\n",
    "1. SVD를 통해 얻은 U와 V^T 행렬을 사용하여 사용자와 아이템 간의 특성 벡터를 학습합니다.\n",
    "2. 일반적으로, U와 V^T의 특정 행은 각각 사용자와 아이템에 대한 특성 벡터를 나타냅니다.\n",
    "\n",
    "### 새로운 사용자에게 추천하기\n",
    "\n",
    "1. 새로운 사용자에게 의류 아이템을 추천할 때, 해당 사용자의 특성 벡터를 예측하고, 다른 사용자나 아이템과의 유사도를 계산하여 추천할 아이템을 결정합니다.\n",
    "2. 유사도는 벡터 간의 거리나 내적 등의 측정 방법으로 계산할 수 있습니다.\n"
   ]
  },
  {
   "cell_type": "code",
   "execution_count": 1,
   "id": "8e70d5a4",
   "metadata": {},
   "outputs": [
    {
     "name": "stdout",
     "output_type": "stream",
     "text": [
      "사용자 특성 벡터:\n",
      "사용자 A: [-0.57735027  0.40824829  0.70710678]\n",
      "사용자 B: [-0.57735027  0.40824829 -0.70710678]\n",
      "사용자 C: [-0.57735027 -0.81649658  0.        ]\n",
      "\n",
      "아이템 특성 벡터:\n",
      "아이템 X: [-0.57735027  0.81649658  0.        ]\n",
      "아이템 Y: [-0.57735027 -0.40824829 -0.70710678]\n",
      "아이템 Z: [-0.57735027 -0.40824829  0.70710678]\n"
     ]
    }
   ],
   "source": [
    "import numpy as np\n",
    "\n",
    "# 사용자-아이템 행렬 정의\n",
    "user_item_matrix = np.array([\n",
    "    [1, 0, 1],\n",
    "    [1, 1, 0],\n",
    "    [0, 1, 1]\n",
    "])\n",
    "\n",
    "# SVD 적용\n",
    "U, s, VT = np.linalg.svd(user_item_matrix)\n",
    "\n",
    "# 사용자 특성 벡터\n",
    "user_features = U\n",
    "print(\"사용자 특성 벡터:\")\n",
    "for i in range(user_features.shape[0]):\n",
    "    print(f\"사용자 {chr(ord('A') + i)}: {user_features[i]}\")\n",
    "\n",
    "# 아이템 특성 벡터\n",
    "item_features = VT.T\n",
    "print(\"\\n아이템 특성 벡터:\")\n",
    "for i in range(item_features.shape[0]):\n",
    "    print(f\"아이템 {chr(ord('X') + i)}: {item_features[i]}\")\n"
   ]
  },
  {
   "attachments": {},
   "cell_type": "markdown",
   "id": "992b67b0",
   "metadata": {},
   "source": [
    "- 위의 예시에서는 가상의 사용자 A, B, C와 의류 아이템 X, Y, Z에 대한 특성 벡터를 얻을 수 있었습니다. \n",
    "- SVD를 통해 얻은 특성 벡터는 사용자와 아이템 간의 상관 관계를 나타내며, 추천 시스템 등에 활용할 수 있습니다. \n",
    "- 실제 데이터에 SVD를 적용할 때에도 비슷한 방식으로 특성 벡터를 구할 수 있습니다\n",
    "\n",
    "\n",
    "### collaborative filtering approach\n",
    "\n",
    "1. neighborhood methods\n",
    "- 아이템 끼리, 사용자 끼리 관계 계산 후 가장 가까운 거리 (사용자 또는 아이템)을 추천\n",
    "\n",
    "2. latent factor models\n",
    "- rating pattern, factor를 추출하는 방식\n",
    "- 해석하기 어려운 factor가 추출될 수 있음\n",
    "- **이 경우를 matrix factorization method를 활용할 수 있다**\n",
    "- cold start 의 문제, 기존 데이터가 없고 완전 신규 유저 문제"
   ]
  },
  {
   "cell_type": "code",
   "execution_count": null,
   "id": "bb0f66bb",
   "metadata": {},
   "outputs": [],
   "source": []
  }
 ],
 "metadata": {
  "kernelspec": {
   "display_name": "Python 3 (ipykernel)",
   "language": "python",
   "name": "python3"
  },
  "language_info": {
   "codemirror_mode": {
    "name": "ipython",
    "version": 3
   },
   "file_extension": ".py",
   "mimetype": "text/x-python",
   "name": "python",
   "nbconvert_exporter": "python",
   "pygments_lexer": "ipython3",
   "version": "3.9.10"
  }
 },
 "nbformat": 4,
 "nbformat_minor": 5
}
